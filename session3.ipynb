{
 "cells": [
  {
   "cell_type": "code",
   "execution_count": 11,
   "id": "f56a2c7a-a461-41d6-a661-6041aa698b8d",
   "metadata": {},
   "outputs": [],
   "source": [
    "salaries=['20k','40k','50k','60k','35k','89k','40k']"
   ]
  },
  {
   "cell_type": "markdown",
   "id": "4ca021e4-1e7f-44ed-bf88-66da0b524953",
   "metadata": {},
   "source": [
    "1Make is the length of the salaries list."
   ]
  },
  {
   "cell_type": "code",
   "execution_count": 12,
   "id": "41ba12dd-d407-4321-ae04-8265ad78c8e5",
   "metadata": {},
   "outputs": [
    {
     "name": "stdout",
     "output_type": "stream",
     "text": [
      "7\n"
     ]
    }
   ],
   "source": [
    "print(len(salaries))"
   ]
  },
  {
   "cell_type": "markdown",
   "id": "b211d7b0-0958-469c-82d2-4fa07cded37e",
   "metadata": {},
   "source": [
    "2 Retrieve the third salary in the list by using index"
   ]
  },
  {
   "cell_type": "code",
   "execution_count": 13,
   "id": "14c2e2b0-41bb-4a66-b39f-381c0ed020c1",
   "metadata": {},
   "outputs": [
    {
     "name": "stdout",
     "output_type": "stream",
     "text": [
      "50k\n"
     ]
    }
   ],
   "source": [
    "print(salaries[2])"
   ]
  },
  {
   "cell_type": "markdown",
   "id": "d91e85dc-c72d-428d-a28f-0287d36a2825",
   "metadata": {},
   "source": [
    "3 extract the last salary from the list by using a negative"
   ]
  },
  {
   "cell_type": "code",
   "execution_count": 14,
   "id": "f63d8174-98a7-41c4-8505-4cd448a1d0f2",
   "metadata": {},
   "outputs": [
    {
     "name": "stdout",
     "output_type": "stream",
     "text": [
      "40k\n"
     ]
    }
   ],
   "source": [
    "print(salaries[-1])"
   ]
  },
  {
   "cell_type": "markdown",
   "id": "4c8b3955-eb69-4d2a-a8d5-d8f8b251cdcc",
   "metadata": {},
   "source": [
    "4 slice the salaries list to get only the middle three salaries"
   ]
  },
  {
   "cell_type": "code",
   "execution_count": 15,
   "id": "d974e7ce-703f-4453-9c41-0dd9bffca176",
   "metadata": {},
   "outputs": [
    {
     "name": "stdout",
     "output_type": "stream",
     "text": [
      "['50k', '60k', '35k']\n"
     ]
    }
   ],
   "source": [
    "print(salaries[2:5])"
   ]
  },
  {
   "cell_type": "markdown",
   "id": "45c48a96-df0f-48c6-8ee1-93ddb8515898",
   "metadata": {},
   "source": [
    "5 Add a new salary to the list '100k' by using append ()method"
   ]
  },
  {
   "cell_type": "code",
   "execution_count": 16,
   "id": "498a319c-224a-4488-ad8e-2e661c4f82cc",
   "metadata": {},
   "outputs": [
    {
     "name": "stdout",
     "output_type": "stream",
     "text": [
      "['20k', '40k', '50k', '60k', '35k', '89k', '40k', '100k']\n"
     ]
    }
   ],
   "source": [
    "salaries.append('100k')\n",
    "print (salaries)"
   ]
  },
  {
   "cell_type": "markdown",
   "id": "f455688b-0234-4b0a-965a-c2a49962f573",
   "metadata": {},
   "source": [
    "6 Add a new salary to the list 120k without method"
   ]
  },
  {
   "cell_type": "code",
   "execution_count": 17,
   "id": "aeec1e04-6dca-4c0c-9983-a57675b6b657",
   "metadata": {},
   "outputs": [],
   "source": [
    "salaries +=['120k']"
   ]
  },
  {
   "cell_type": "markdown",
   "id": "3f52d1cd-e117-4b27-84e9-53aa405eee28",
   "metadata": {},
   "source": [
    "7 Replace the third salary in the list with 55k and print the update list"
   ]
  },
  {
   "cell_type": "code",
   "execution_count": 18,
   "id": "957b392b-1de5-44b2-8895-31f9f7c88d2c",
   "metadata": {},
   "outputs": [
    {
     "name": "stdout",
     "output_type": "stream",
     "text": [
      "['20k', '40k', '55k', '60k', '35k', '89k', '40k', '100k', '120k']\n"
     ]
    }
   ],
   "source": [
    "salaries[2] = '55k'\n",
    "print(salaries)"
   ]
  },
  {
   "cell_type": "markdown",
   "id": "729e1406-2130-4137-8292-2610514d6db5",
   "metadata": {},
   "source": [
    "Count how many times 40k appears in the list"
   ]
  },
  {
   "cell_type": "code",
   "execution_count": 19,
   "id": "7bead458-c932-4d62-b87d-57d5df432f0d",
   "metadata": {},
   "outputs": [
    {
     "name": "stdout",
     "output_type": "stream",
     "text": [
      "2\n"
     ]
    }
   ],
   "source": [
    "count_40k = salaries.count('40k')\n",
    "print(count_40k)"
   ]
  },
  {
   "cell_type": "markdown",
   "id": "7ef677b9-2fad-4052-9154-6f6e81fb3f2f",
   "metadata": {},
   "source": [
    "9 insert a new salary at the second position"
   ]
  },
  {
   "cell_type": "code",
   "execution_count": 20,
   "id": "220702e0-c457-4279-934c-faad1a009640",
   "metadata": {},
   "outputs": [],
   "source": [
    "salaries.insert(1, '70k')"
   ]
  },
  {
   "cell_type": "markdown",
   "id": "67c4694b-d425-4e93-a61a-fdfb326e0b42",
   "metadata": {},
   "source": [
    "10 reverse the order of the salaries list with method"
   ]
  },
  {
   "cell_type": "code",
   "execution_count": 21,
   "id": "435206e1-2d92-48bc-8b95-71591c48fab3",
   "metadata": {},
   "outputs": [],
   "source": [
    "salaries.reverse()"
   ]
  },
  {
   "cell_type": "markdown",
   "id": "a184bb9f-5119-4d1b-8ae4-86e043ce2b3c",
   "metadata": {},
   "source": [
    "11 revers the order of the of the salaries list with out method"
   ]
  },
  {
   "cell_type": "code",
   "execution_count": 22,
   "id": "509b0275-6beb-4738-bc1a-59979e679a55",
   "metadata": {},
   "outputs": [
    {
     "ename": "SyntaxError",
     "evalue": "invalid syntax (1835411515.py, line 1)",
     "output_type": "error",
     "traceback": [
      "\u001b[1;36m  Cell \u001b[1;32mIn[22], line 1\u001b[1;36m\u001b[0m\n\u001b[1;33m    reversed_salaries =\u001b[0m\n\u001b[1;37m                        ^\u001b[0m\n\u001b[1;31mSyntaxError\u001b[0m\u001b[1;31m:\u001b[0m invalid syntax\n"
     ]
    }
   ],
   "source": [
    "reversed_salaries = \n",
    "salaries[::-1]"
   ]
  },
  {
   "cell_type": "code",
   "execution_count": null,
   "id": "4a6d60f2-bae9-4a24-96af-fa9536017635",
   "metadata": {},
   "outputs": [],
   "source": []
  }
 ],
 "metadata": {
  "kernelspec": {
   "display_name": "Python 3 (ipykernel)",
   "language": "python",
   "name": "python3"
  },
  "language_info": {
   "codemirror_mode": {
    "name": "ipython",
    "version": 3
   },
   "file_extension": ".py",
   "mimetype": "text/x-python",
   "name": "python",
   "nbconvert_exporter": "python",
   "pygments_lexer": "ipython3",
   "version": "3.12.7"
  }
 },
 "nbformat": 4,
 "nbformat_minor": 5
}
